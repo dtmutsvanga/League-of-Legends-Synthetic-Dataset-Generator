{
 "cells": [
  {
   "cell_type": "code",
   "execution_count": 123,
   "metadata": {},
   "outputs": [],
   "source": [
    "import selenium\n",
    "from selenium import webdriver\n",
    "from selenium.webdriver.common.keys import Keys\n",
    "from selenium.webdriver.common.action_chains import ActionChains\n",
    "from selenium.webdriver.support.ui import Select\n",
    "import time\n",
    "from selenium.webdriver.support import expected_conditions as EC\n",
    "from selenium.webdriver.support.ui import WebDriverWait\n",
    "from selenium.webdriver.common.by import By\n",
    "import os\n",
    "import numpy as np\n",
    "import gc\n",
    "import time"
   ]
  },
  {
   "cell_type": "code",
   "execution_count": 146,
   "metadata": {},
   "outputs": [],
   "source": [
    "class TeemoModelView:\n",
    "    def __init__(self, webdriver_path='C:\\WebDrivers\\edgedriver_win64\\msedgedriver.exe', champ_name='Teemo', init=False):\n",
    "        self.wd_path = webdriver_path\n",
    "        self.driver = webdriver.Edge(executable_path=self.wd_path)\n",
    "        self.champ_name = champ_name\n",
    "        self.initd = False\n",
    "        self.item_ids = {'champ_sel'      : 'teemo-mv-objects',\n",
    "            'champ_skin_sel' : 'teemo-mv-skins',\n",
    "            'load_btn'       :'teemo-mv-load-button',\n",
    "            'animation_sel'  : 'model-viewer-animation',\n",
    "            'color_opts': 'adv-opts-bg-color',\n",
    "            'anim_speed_txt' : 'model-viewer-animation-speed',\n",
    "            'zoom_speed' : 'model-viewer-zoom-speed',\n",
    "            'model_viewer': 'champion-model'\n",
    "           }\n",
    "        self.js_fxns = {'play_pause' : 'toggleAnimationPlay()',\n",
    "                   'toggle_adv_options' : 'toggleAdvancedOptions()',\n",
    "                   'full_scrn': 'makeFullscreen()'\n",
    "                  }\n",
    "        if(init):\n",
    "            self.init_driver()\n",
    "              \n",
    "    def init_driver(self, wait_for_load=True, wait_to=20):\n",
    "        self.driver.get(self.mv_prep_query(champ_name=self.champ_name))\n",
    "        self._init_elements()\n",
    "        self.load_champ(self.champ_name, wait_for_load=wait_for_load,wait_to=wait_to) \n",
    "        self.initd = True\n",
    "        \n",
    "    def _init_elements(self):\n",
    "        self.element_champ_sel = self.driver.find_element_by_id(self.item_ids['champ_sel'])\n",
    "        self.element_champ_skin_sel = self.driver.find_element_by_id(self.item_ids['champ_skin_sel'])\n",
    "        self.element_champ_anim_sel = self.driver.find_element_by_id(self.item_ids['animation_sel'])\n",
    "        self.element_model_viewer =  self.driver.find_element_by_id(self.item_ids['model_viewer'])\n",
    "        self.element_btn_load = self.driver.find_element_by_id(self.item_ids['load_btn'])\n",
    "        self.champ_names = self.get_champ_names()\n",
    "        \n",
    "    def mv_prep_query(self, champ_name='Teemo', skin_id= '0', game='league-of-legends', model_category='champions'):\n",
    "        url = 'https://teemo.gg/model-viewer?'\n",
    "        url = url + 'game=' + game + '&'\n",
    "        url = url + 'type='+ model_category + '&'\n",
    "        url = url + 'object='+ champ_name + '&'\n",
    "        url = url + 'skin_id='+ champ_name + '-' + skin_id\n",
    "        return url\n",
    "    \n",
    "    def get_champ_names(self):\n",
    "        #element_sel = self.driver.find_element_by_id(item_ids['champ_sel'])\n",
    "        return self.element_champ_sel.text.split('\\n')\n",
    "    \n",
    "    def get_champ_skins(self):\n",
    "        #element_sel = self.driver.find_element_by_id(item_ids['champ_skin_sel'])\n",
    "        return self.element_champ_skin_sel.text.split('\\n')\n",
    "    \n",
    "    def get_champ_animations(self):\n",
    "        #element_sel = self.driver.find_element_by_id(item_ids['animation_sel'])\n",
    "        return [a.strip() for a in self.element_champ_anim_sel.text.split('\\n')]\n",
    "    \n",
    "    def load_champ(self, champ_name='Sona', wait_for_load=True, wait_to=20):  \n",
    "        assert champ_name in self.champ_names, \"Champion {} was not found\".format(champ_name)\n",
    "        #element_sel = self.driver.find_element_by_id(item_ids['champ_sel'])\n",
    "        champ_sel = Select(self.element_champ_sel)\n",
    "        champ_sel.select_by_visible_text(champ_name)\n",
    "        self.champ_name = champ_name\n",
    "        self.element_btn_load.click()\n",
    "        if(wait_for_load and wait_to>0):\n",
    "            wait_txt = 'eath'\n",
    "            self.wait_for_model_load(wait_txt, wait_to)\n",
    "        self._init_elements()\n",
    "    \n",
    "    def load_champ_skin(self, champ_skin, wait_for_load=True, wait_to=20):\n",
    "        assert champ_skin in get_champ_skins(driver), \"Champion skin {} was not found\".format(champ_skin)\n",
    "        #element_sel = driver.find_element_by_id(item_ids['champ_skin_sel'])\n",
    "        champ_sel = Select(self.element_champ_skin_sel)\n",
    "        champ_sel.select_by_visible_text(champ_skin)\n",
    "        self.element_btn_load.click()\n",
    "        if(wait_for_load and wait_to>0):\n",
    "            wait_txt = 'eath'\n",
    "            self.wait_for_model_load(wait_txt, wait_to)\n",
    "        self._init_elements()\n",
    "        \n",
    "    def set_champ_animation_by_name(self, anim_name):\n",
    "        assert anim_name in self.get_champ_animations(), \"Champion anim {} was not found\".format(anim_name)\n",
    "        #element_sel = driver.find_element_by_id(item_ids['animation_sel'])\n",
    "        sel = Select(self.element_champ_anim_sel)\n",
    "        sel.select_by_visible_text(anim_name)\n",
    "    \n",
    "    def set_champ_animation_by_idx(self, anim_idx):\n",
    "        n_anim = len(self.get_champ_animations())\n",
    "        assert anim_idx < n_anim, \"Index {} is greater than animations array length {}\".format(anim_idx,n_anim)\n",
    "        #element_sel = driver.find_element_by_id(item_ids['animation_sel'])\n",
    "        sel = Select(self.element_champ_anim_sel)\n",
    "        sel.select_by_index(anim_idx)\n",
    "    \n",
    "    def take_model_screenshot(self, save_name):\n",
    "        #assert os.path.exists(save_name)\n",
    "        #self.driver.find_element_by_id(item_ids['model_viewer']).click()\n",
    "        self.element_model_viewer.screenshot(save_name)\n",
    "        \n",
    "    def key_down_with_delay(self, key, press_delay=0.25):\n",
    "        mv = self.element_model_viewer\n",
    "        keyAction = ActionChains(self.driver).key_down(key,element=mv).pause(press_delay).key_up(key)\n",
    "        keyAction.perform()\n",
    "    \n",
    "    def set_model_backgroud(self, color = '#00ff00'):\n",
    "        self.driver.execute_script('\\\n",
    "        background&&background.dispose();\\\n",
    "        scene.clearColor=new BABYLON.Color3.FromHexString(\"{}\")'.format(color))\n",
    "    \n",
    "    def get_curr_anime_max(self):\n",
    "        return float(self.driver.find_element_by_id('model-viewer-frame').get_attribute('max'))\n",
    "    \n",
    "    def set_model_animation_pos(self, val):\n",
    "        assert val < self.get_curr_anime_max()\n",
    "        assert val >=0\n",
    "        js = 'pauseAnimation();currentAnimation&&currentAnimation.goToFrame({})'.format(val)\n",
    "        self.driver.execute_script(js)\n",
    "        \n",
    "    def set_model_min_max_camera_radii(self, minimum=600, maximum=700):\n",
    "        self.driver.execute_script('scene.activeCamera.upperRadiusLimit={};\\\n",
    "                                    scene.activeCamera.lowerRadiusLimit={};'.format(maximum, minimum))\n",
    "        \n",
    "    def wait_for_model_load(self, wait_txt, timeout=20):\n",
    "        wait = WebDriverWait(self.driver,timeout)\n",
    "        el = wait.until(EC.text_to_be_present_in_element((By.ID, self.item_ids['animation_sel']), wait_txt))\n",
    "        return el"
   ]
  },
  {
   "cell_type": "code",
   "execution_count": 126,
   "metadata": {},
   "outputs": [],
   "source": [
    "champs = ['Garen', 'Nasus', 'Morgana']\n",
    "key_wrds = ['ttack', 'eath', 'dle','pell' ]\n",
    "view_angles = [0,45,90,135,180,225,270,315,360]\n",
    "save_dir = 'champions'"
   ]
  },
  {
   "cell_type": "code",
   "execution_count": null,
   "metadata": {},
   "outputs": [],
   "source": [
    "mv = TeemoModelView(champ_name=champs[0], init=False)\n",
    "for champ in champs:\n",
    "    if(not mv.initd):\n",
    "        mv.init_driver()\n",
    "    mv.load_champ(champ)\n",
    "    mv.set_model_min_max_camera_radii(minimum=1000, maximum=1100)\n",
    "    mv.set_model_backgroud('#00ff00') # Green\n",
    "    \n",
    "    # Change the models orientation to isometrc-like view\n",
    "    mv.key_down_with_delay(key=Keys.ARROW_UP,press_delay=0.3)\n",
    "    \n",
    "    # Get all available animations, filter to get those we want\n",
    "    anim_names = [an_name.strip() for k in key_wrds for an_name in mv.get_champ_animations() if k in an_name]\n",
    "   \n",
    "    for anim in anim_names:\n",
    "        # MAke save path\n",
    "        save_path = '{}/{}/anim_{}'.format(save_dir,champ, anim)\n",
    "        if(not os.path.exists(save_path)):\n",
    "            os.makedirs(save_path)\n",
    "            \n",
    "        mv.set_champ_animation_by_name(anim)\n",
    "        an_max = mv.get_curr_anime_max()\n",
    "        # Create animation frames with 0.1s intervals (10 fps)\n",
    "        anim_pints = np.arange(0.0, float(an_max), 0.1) \n",
    "        #mv.set_model_min_max_camera_radii()\n",
    "        for an_ctr, anim_pnt in zip(range(0, len(anim_pints)), anim_pints):\n",
    "            # Set anim frame\n",
    "            mv.set_model_animation_pos(anim_pnt)\n",
    "            \n",
    "            # Take screenshots of this animation from various angles\n",
    "            for direxn in range(0, 8):\n",
    "                file_nm = '{}_{}_f{}_a{}.png'.format(champ, anim, an_ctr, direxn)\n",
    "                full_path = os.path.join(save_path, file_nm)\n",
    "                mv.take_model_screenshot(full_path)\n",
    "                \n",
    "                # Rotate the model horizontally\n",
    "                mv.key_down_with_delay(key=Keys.ARROW_LEFT,press_delay=0.25)"
   ]
  },
  {
   "cell_type": "code",
   "execution_count": 119,
   "metadata": {},
   "outputs": [
    {
     "data": {
      "text/plain": [
       "9626"
      ]
     },
     "execution_count": 119,
     "metadata": {},
     "output_type": "execute_result"
    }
   ],
   "source": [
    "gc.collect()"
   ]
  },
  {
   "cell_type": "code",
   "execution_count": 132,
   "metadata": {},
   "outputs": [],
   "source": [
    "mv = TeemoModelView(champ_name=champs[0], init=True)"
   ]
  },
  {
   "cell_type": "code",
   "execution_count": 134,
   "metadata": {},
   "outputs": [],
   "source": [
    "mv.set_model_min_max_camera_radii()\n",
    "   # mv.key_down_with_delay(key=Keys.ARROW_UP, press_delay=0.25)"
   ]
  },
  {
   "cell_type": "code",
   "execution_count": 149,
   "metadata": {},
   "outputs": [],
   "source": [
    "driver = mv.driver"
   ]
  },
  {
   "cell_type": "code",
   "execution_count": 145,
   "metadata": {},
   "outputs": [],
   "source": [
    "driver.execute_script('scene.activeCamera.upperRadiusLimit= 700;')\n",
    "driver.execute_script('scene.activeCamera.lowerRadiusLimit=600;')"
   ]
  },
  {
   "cell_type": "code",
   "execution_count": 150,
   "metadata": {},
   "outputs": [],
   "source": [
    "mv_el = mv.element_model_viewer"
   ]
  },
  {
   "cell_type": "code",
   "execution_count": 151,
   "metadata": {},
   "outputs": [
    {
     "data": {
      "text/plain": [
       "'912px'"
      ]
     },
     "execution_count": 151,
     "metadata": {},
     "output_type": "execute_result"
    }
   ],
   "source": [
    "mv_el.value_of_css_property('width')"
   ]
  },
  {
   "cell_type": "code",
   "execution_count": 77,
   "metadata": {},
   "outputs": [],
   "source": [
    "mv.set_champ_animation_by_name(anim_names[2])"
   ]
  },
  {
   "cell_type": "code",
   "execution_count": 58,
   "metadata": {},
   "outputs": [
    {
     "data": {
      "text/plain": [
       "False"
      ]
     },
     "execution_count": 58,
     "metadata": {},
     "output_type": "execute_result"
    }
   ],
   "source": [
    "anim_names[0].strip() in mv.get_champ_animations()"
   ]
  },
  {
   "cell_type": "code",
   "execution_count": 59,
   "metadata": {},
   "outputs": [
    {
     "data": {
      "text/plain": [
       "'Garen_2013_Attack_01'"
      ]
     },
     "execution_count": 59,
     "metadata": {},
     "output_type": "execute_result"
    }
   ],
   "source": [
    "anim_names[0].strip()"
   ]
  },
  {
   "cell_type": "code",
   "execution_count": 68,
   "metadata": {},
   "outputs": [
    {
     "data": {
      "text/plain": [
       "['Animation',\n",
       " 'T Pose',\n",
       " 'Garen_2013_Attack_01',\n",
       " 'Garen_2013_Attack_02',\n",
       " 'Garen_2013_Crit',\n",
       " 'Garen_2013_Death',\n",
       " 'Garen_2013_Idle1',\n",
       " 'Garen_2013_Idle2',\n",
       " 'Garen_2013_Idle3',\n",
       " 'Garen_2013_Idle_LeadIn',\n",
       " 'Garen_2013_Joke',\n",
       " 'Garen_2013_Joke_loop',\n",
       " 'Garen_2013_Recall',\n",
       " 'Garen_2013_Recall_leadout',\n",
       " 'Garen_2013_Recall_loop',\n",
       " 'Garen_2013_Respawn',\n",
       " 'Garen_2013_Run',\n",
       " 'Garen_2013_Run_Fast',\n",
       " 'Garen_2013_Run_Haste',\n",
       " 'Garen_2013_Run_Spell1',\n",
       " 'Garen_2013_channel',\n",
       " 'Garen_2013_channelin',\n",
       " 'Garen_2013_dance',\n",
       " 'Garen_2013_dance_loop',\n",
       " 'Garen_2013_laugh',\n",
       " 'Garen_2013_spell1',\n",
       " 'Garen_2013_spell4',\n",
       " 'Garen_2013_taunt',\n",
       " 'Garen_Base_spell3_-180',\n",
       " 'Garen_Base_spell3_-90',\n",
       " 'Garen_Base_spell3_0',\n",
       " 'Garen_Base_spell3_180',\n",
       " 'Garen_Base_spell3_90']"
      ]
     },
     "execution_count": 68,
     "metadata": {},
     "output_type": "execute_result"
    }
   ],
   "source": [
    "[el.strip() for el in mv.element_champ_anim_sel.text.split('\\n')]"
   ]
  },
  {
   "cell_type": "code",
   "execution_count": null,
   "metadata": {},
   "outputs": [],
   "source": []
  }
 ],
 "metadata": {
  "kernelspec": {
   "display_name": "Python 3.8.6 64-bit",
   "language": "python",
   "name": "python38664bit5086e08cf0ac40048632b8a4bca36774"
  },
  "language_info": {
   "codemirror_mode": {
    "name": "ipython",
    "version": 3
   },
   "file_extension": ".py",
   "mimetype": "text/x-python",
   "name": "python",
   "nbconvert_exporter": "python",
   "pygments_lexer": "ipython3",
   "version": "3.8.6"
  }
 },
 "nbformat": 4,
 "nbformat_minor": 4
}
