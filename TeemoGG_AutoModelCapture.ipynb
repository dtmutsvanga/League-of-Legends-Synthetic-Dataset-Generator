{
 "cells": [
  {
   "cell_type": "markdown",
   "metadata": {
    "id": "HfPdJk_XGYNC"
   },
   "source": [
    "# TeemoGG Auto-model Screenshot Capture\n",
    "This notebook is for automatically capturing screenshots of models from the website teemo.gg  \n",
    "The notebook automatically opens the website in a browser, selects the model, selects the model's animation, rotates it, takes a screenshot and repeats the process for all models listed."
   ]
  },
  {
   "cell_type": "code",
   "execution_count": 1,
   "metadata": {
    "id": "XQbUfeFaGYNJ"
   },
   "outputs": [],
   "source": [
    "import selenium\n",
    "from selenium import webdriver\n",
    "from selenium.webdriver.common.keys import Keys\n",
    "from selenium.webdriver.common.action_chains import ActionChains\n",
    "from selenium.webdriver.support.ui import Select\n",
    "import time\n",
    "from selenium.webdriver.support import expected_conditions as EC\n",
    "from selenium.webdriver.support.ui import WebDriverWait\n",
    "from selenium.webdriver.common.by import By\n",
    "import random\n",
    "import os\n",
    "import numpy as np\n",
    "import gc\n",
    "import time"
   ]
  },
  {
   "cell_type": "code",
   "execution_count": 4,
   "metadata": {
    "id": "CTHJX5E2GYNM"
   },
   "outputs": [],
   "source": [
    "class TeemoModelView:\n",
    "    def __init__(self, webdriver_path='C:\\WebDrivers\\edgedriver_win64_98_01\\msedgedriver.exe', champ_name='Teemo',champ_skin='Teemo', init=False):\n",
    "        self.wd_path = webdriver_path\n",
    "        self.driver = webdriver.Edge(executable_path=self.wd_path)\n",
    "        self.champ_name = champ_name\n",
    "        self.champ_skin = champ_skin # Loads the deault skin\n",
    "        self.initd = False\n",
    "        self.item_ids = {\n",
    "            'champ_sel'      : 'teemo-mv-objects',\n",
    "            'champ_skin_sel' : 'teemo-mv-skins',\n",
    "            'load_btn'       :'teemo-mv-load-button',\n",
    "            'animation_sel'  : 'model-viewer-animation',\n",
    "            'color_opts': 'adv-opts-bg-color',\n",
    "            'anim_speed_txt' : 'model-viewer-animation-speed',\n",
    "            'zoom_speed' : 'model-viewer-zoom-speed',\n",
    "            'model_viewer': 'champion-model',\n",
    "            'category_sel': 'teemo-mv-type'\n",
    "           }\n",
    "        self.js_fxns = {\n",
    "            'play_pause' : 'toggleAnimationPlay()',\n",
    "            'toggle_adv_options' : 'toggleAdvancedOptions()',\n",
    "            'full_scrn': 'makeFullscreen()'\n",
    "                  }\n",
    "        if(init):\n",
    "            self.init_driver()\n",
    "              \n",
    "    def init_driver(self, wait_for_load=True, wait_to=20):\n",
    "        self.driver.get(self.mv_prep_query(champ_name=self.champ_name))\n",
    "        self._init_elements()\n",
    "        self.load_champ(self.champ_name, self.champ_skin, wait_for_load=wait_for_load,wait_to=wait_to) \n",
    "        self.initd = True\n",
    "        \n",
    "    def _init_elements(self):\n",
    "        self.element_champ_sel = self.driver.find_element_by_id(self.item_ids['champ_sel'])\n",
    "        self.element_champ_skin_sel = self.driver.find_element_by_id(self.item_ids['champ_skin_sel'])\n",
    "        self.element_champ_anim_sel = self.driver.find_element_by_id(self.item_ids['animation_sel'])\n",
    "        self.element_model_viewer =  self.driver.find_element_by_id(self.item_ids['model_viewer'])\n",
    "        self.element_btn_load = self.driver.find_element_by_id(self.item_ids['load_btn'])\n",
    "        self.element_category_sel = self.driver.find_element_by_id(self.item_ids['category_sel'])\n",
    "        self.champ_names = self.get_champ_names()\n",
    "        \n",
    "    def mv_prep_query(self, champ_name='Teemo', skin_id= '0', game='league-of-legends', model_category='champions'):\n",
    "        url = 'https://teemo.gg/model-viewer?'\n",
    "        url = url + 'game=' + game + '&'\n",
    "        url = url + 'type='+ model_category + '&'\n",
    "        url = url + 'object='+ champ_name + '&'\n",
    "        url = url + 'skin_id='+ champ_name + '-' + skin_id\n",
    "        return url\n",
    "    \n",
    "    def get_champ_names(self):\n",
    "        #element_sel = self.driver.find_element_by_id(item_ids['champ_sel'])\n",
    "        return self.element_champ_sel.text.split('\\n')\n",
    "    \n",
    "    def get_champ_skins(self):\n",
    "        #element_sel = self.driver.find_element_by_id(item_ids['champ_skin_sel'])\n",
    "        return self.element_champ_skin_sel.text.split('\\n')\n",
    "    \n",
    "    def get_champ_animations(self):\n",
    "        #element_sel = self.driver.find_element_by_id(item_ids['animation_sel'])\n",
    "        return [a.strip() for a in self.element_champ_anim_sel.text.split('\\n')]\n",
    "    \n",
    "    def select_champion_and_skin(self, champ_name='Sona', champ_skin='Muse Sona'):\n",
    "        assert champ_name in self.champ_names, \"Champion {} was not found in list\".format(champ_name)\n",
    "        self.element_category_sel.send_keys('Champions')\n",
    "        champ_sel = Select(self.element_champ_sel)\n",
    "        champ_sel.select_by_visible_text(champ_name)\n",
    "        self.champ_name = champ_name\n",
    "        \n",
    "        # Select champion skin\n",
    "        self.champ_skins = self.get_champ_skins()\n",
    "        #print(self.champ_skins)\n",
    "        assert champ_skin in self.champ_skins, \"Champion skin {} was not found in list \\n\".format(champ_skin, self.champ_skins)\n",
    "        champ_skin_sel = Select(self.element_champ_skin_sel)\n",
    "        champ_skin_sel.select_by_visible_text(champ_skin)\n",
    "        self.champ_name = champ_name\n",
    "        \n",
    "    def load_champ(self, champ_name='Sona', champ_skin='Muse Sona', wait_for_load=True, wait_to=20):  \n",
    "        # Select champion from drop don menus\n",
    "        self.select_champion_and_skin(champ_name, champ_skin)\n",
    "        \n",
    "        # Click the load button and wait for the text 'eath' to appear in animation select dropdown menu\n",
    "        self.element_btn_load.click()\n",
    "        if(wait_for_load and wait_to>0):\n",
    "            wait_txt = 'eath'\n",
    "            self.wait_for_model_load(wait_txt, wait_to)\n",
    "        self._init_elements()\n",
    "        \n",
    "    def load_creep(self, creep_name='Summoners Rift Chaos Minion Melee', wait_for_load=True, wait_to=20):  \n",
    "        self.element_category_sel.send_keys('Creatures')\n",
    "        assert creep_name in self.get_champ_names(), \"Creep {} was not found\".format(champ_name)\n",
    "        creep_sel = Select(self.element_champ_sel)\n",
    "        creep_sel.select_by_visible_text(creep_name)\n",
    "        self.champ_name = creep_name\n",
    "        self.element_btn_load.click()\n",
    "        if(wait_for_load and wait_to>0):\n",
    "            wait_txt = 'eath'\n",
    "            self.wait_for_model_load(wait_txt, wait_to)\n",
    "        self._init_elements()\n",
    "        \n",
    "    # def load_champ_skin(self, champ_skin, wait_for_load=True, wait_to=20):\n",
    "    #     assert champ_skin in get_champ_skins(driver), \"Champion skin {} was not found\".format(champ_skin)\n",
    "    #     #element_sel = driver.find_element_by_id(item_ids['champ_skin_sel'])\n",
    "    #     champ_sel = Select(self.element_champ_skin_sel)\n",
    "    #     champ_sel.select_by_visible_text(champ_skin)\n",
    "    #     self.element_btn_load.click()\n",
    "    #     if(wait_for_load and wait_to>0):\n",
    "    #         wait_txt = 'eath'\n",
    "    #         self.wait_for_model_load(wait_txt, wait_to)\n",
    "    #     self._init_elements()\n",
    "        \n",
    "    def set_champ_animation_by_name(self, anim_name):\n",
    "        assert anim_name in self.get_champ_animations(), \"Champion anim {} was not found\".format(anim_name)\n",
    "        #element_sel = driver.find_element_by_id(item_ids['animation_sel'])\n",
    "        sel = Select(self.element_champ_anim_sel)\n",
    "        sel.select_by_visible_text(anim_name)\n",
    "    \n",
    "    def set_champ_animation_by_idx(self, anim_idx):\n",
    "        n_anim = len(self.get_champ_animations())\n",
    "        assert anim_idx < n_anim, \"Index {} is greater than animations array length {}\".format(anim_idx,n_anim)\n",
    "        #element_sel = driver.find_element_by_id(item_ids['animation_sel'])\n",
    "        sel = Select(self.element_champ_anim_sel)\n",
    "        sel.select_by_index(anim_idx)\n",
    "    \n",
    "    def take_model_screenshot(self, save_name):\n",
    "        #assert os.path.exists(save_name)\n",
    "        #self.driver.find_element_by_id(item_ids['model_viewer']).click()\n",
    "        self.element_model_viewer.screenshot(save_name)\n",
    "        \n",
    "    def key_down_with_delay(self, key, press_delay=0.25):\n",
    "        mv = self.element_model_viewer\n",
    "        keyAction = ActionChains(self.driver).key_down(key,element=mv).pause(press_delay).key_up(key)\n",
    "        keyAction.perform()\n",
    "    \n",
    "    def set_model_backgroud(self, color = '#00ff00'):\n",
    "        self.driver.execute_script('\\\n",
    "        background&&background.dispose();\\\n",
    "        scene.clearColor=new BABYLON.Color3.FromHexString(\"{}\")'.format(color))\n",
    "    \n",
    "    def get_curr_anime_max(self):\n",
    "        return float(self.driver.find_element_by_id('model-viewer-frame').get_attribute('max'))\n",
    "    \n",
    "    def set_model_animation_pos(self, val):\n",
    "        assert val < self.get_curr_anime_max()\n",
    "        assert val >=0\n",
    "        js = 'pauseAnimation();currentAnimation&&currentAnimation.goToFrame({})'.format(val)\n",
    "        self.driver.execute_script(js)\n",
    "        \n",
    "    def set_model_min_max_camera_radii(self, minimum=600, maximum=700):\n",
    "        self.driver.execute_script('scene.activeCamera.upperRadiusLimit={};\\\n",
    "                                    scene.activeCamera.lowerRadiusLimit={};'.format(maximum, minimum))\n",
    "        \n",
    "    def wait_for_model_load(self, wait_txt, timeout=20):\n",
    "        wait = WebDriverWait(self.driver,timeout)\n",
    "        el = wait.until(EC.text_to_be_present_in_element((By.ID, self.item_ids['animation_sel']), wait_txt))\n",
    "        return el"
   ]
  },
  {
   "cell_type": "markdown",
   "metadata": {
    "id": "AyBGLZWiGYNP"
   },
   "source": [
    "## Extract Champion Models"
   ]
  },
  {
   "cell_type": "code",
   "execution_count": 5,
   "metadata": {
    "id": "q9uWbj9tGYNQ"
   },
   "outputs": [],
   "source": [
    "mv = TeemoModelView(init=True)"
   ]
  },
  {
   "cell_type": "code",
   "execution_count": 17,
   "metadata": {
    "id": "q9uWbj9tGYNQ"
   },
   "outputs": [],
   "source": [
    "#mv.element_category_sel.send_keys('champions')\n",
    "champs = [['Rumble', 'Super Galaxy Rumble'],\n",
    "          ['Sylas',  'Sylas'],\n",
    "          ['Viego', 'Dissonance of Pentakill Viego'],\n",
    "          ['Rakan', 'Cosmic Dawn Rakan'],\n",
    "          ['Zeri', 'Zeri'],\n",
    "          ['Darius','Crime City Nightmare Darius'],\n",
    "          ['Graves','Victorious Graves'],\n",
    "          ['Ryze','Zombie Ryze'],\n",
    "          ['Karma','Sun Goddess Karma'],\n",
    "          ['Veigar','Final Boss Veigar']\n",
    "         ]\n",
    "key_wrds = ['ttack', 'eath', 'dle','pell' ]\n",
    "#key_wrds = ['ttack',]\n",
    "view_angles = [0,45,90,135,180,225,270,315,360]\n",
    "save_dir = 'v2_01_champions_10'\n",
    "\n",
    "#mv.load_champ(champ[0], champ[1])"
   ]
  },
  {
   "cell_type": "code",
   "execution_count": 11,
   "metadata": {},
   "outputs": [
    {
     "data": {
      "text/plain": [
       "'v2_01_champions_10'"
      ]
     },
     "execution_count": 11,
     "metadata": {},
     "output_type": "execute_result"
    }
   ],
   "source": [
    "save_dir"
   ]
  },
  {
   "cell_type": "code",
   "execution_count": 18,
   "metadata": {},
   "outputs": [
    {
     "name": "stdout",
     "output_type": "stream",
     "text": [
      "Found:\t Champion Rumble (Super Galaxy Rumble)\n",
      "Found:\t Champion Sylas (Sylas)\n",
      "Found:\t Champion Viego (Dissonance of Pentakill Viego)\n",
      "Found:\t Champion Rakan (Cosmic Dawn Rakan)\n",
      "Found:\t Champion Zeri (Zeri)\n",
      "Found:\t Champion Darius (Crime City Nightmare Darius)\n",
      "Found:\t Champion Graves (Victorious Graves)\n",
      "Found:\t Champion Ryze (Zombie Ryze)\n",
      "Found:\t Champion Karma (Sun Goddess Karma)\n",
      "Found:\t Champion Veigar (Final Boss Veigar)\n"
     ]
    }
   ],
   "source": [
    "# Check if champs and skins exist\n",
    "for champ, champ_skin in champs:\n",
    "    try:\n",
    "        mv.select_champion_and_skin(champ, champ_skin)\n",
    "        print(f'Found:\\t Champion {champ} ({champ_skin})')\n",
    "    except:\n",
    "        print(f'Missing:\\t Champion {champ} ({champ_skin})')"
   ]
  },
  {
   "cell_type": "code",
   "execution_count": 20,
   "metadata": {
    "id": "CN7XMeEiGYNR"
   },
   "outputs": [
    {
     "name": "stdout",
     "output_type": "stream",
     "text": [
      "['Rumble_Skin03_Attack2ALT', 'Rumble_Skin03_Death', 'Rumble_Skin03_Idle_Ready_in', 'Rumble_Skin03_Spell3Recast']\n",
      "['Sylas_Attack_01_To_RunFast', 'Sylas_Death', 'Sylas_Idle_to_Run', 'Sylas_Spell2_C_TO_Idle']\n",
      "['Viego_Attack2', 'Viego_Death', 'Viego_IdleIn_INTO_Homeguard', 'Viego_Spell3_180']\n",
      "['Rakan_Attack2', 'Rakan_Death', 'Rakan_Idle01_variant1', 'Rakan_Spell4_into']\n",
      "['Attack2', 'Death', 'Homeguard_IdleIn', 'Spell1']\n",
      "['Darius_Attack2', 'Darius_Death', 'Darius_Idle1', 'Darius_Spell2']\n",
      "['graves_attack2', 'graves_Skin14_death_v04', 'graves_Skin14_idle1_v03', 'graves_Skin14_spell1_v04']\n",
      "['Ryze_Attack4', 'ryze_death', 'Ryze_IdleIN', 'ryze_spell1']\n",
      "['karma_2012_attack2', 'karma_2012_death', 'karma_2012_idle2', 'karma_2012_spell3']\n"
     ]
    }
   ],
   "source": [
    "for champ, champ_skin in champs[:-1]:\n",
    "    if(not mv.initd):\n",
    "        mv.init_driver()\n",
    "    mv.load_champ(champ, champ_skin)\n",
    "    mv.set_model_min_max_camera_radii(minimum=1000, maximum=1100)\n",
    "    mv.set_model_backgroud('#00ff00') # Green\n",
    "    \n",
    "    # Change the models orientation to isometrc-like view\n",
    "    mv.key_down_with_delay(key=Keys.ARROW_UP,press_delay=0.3)\n",
    "    \n",
    "    # Get all available animations, filter to get those we want\n",
    "    animations = mv.get_champ_animations()\n",
    "    \n",
    "    # Filter by animation name to aoid repeated similar animations\n",
    "    anim_names = []\n",
    "    for k in key_wrds:\n",
    "        anims = [an_name for an_name in animations if k in an_name]\n",
    "        if len(anims) > 0:\n",
    "            anim = random.choice(anims)\n",
    "            anim_names.append(anim)\n",
    "    print(anim_names)\n",
    "    for anim in anim_names:\n",
    "        # MAke save path\n",
    "        #TODO: Add skin name to path\n",
    "        save_path = '{}/{}/anim_{}'.format(save_dir,champ, anim)\n",
    "        if(not os.path.exists(save_path)):\n",
    "            os.makedirs(save_path)\n",
    "            \n",
    "        mv.set_champ_animation_by_name(anim)\n",
    "        an_max = mv.get_curr_anime_max()\n",
    "        if(an_max > 10):\n",
    "            an_max = 10.0\n",
    "        # Create animation frames with 0.1s intervals (5 fps)\n",
    "        anim_pints = np.arange(0.0, float(an_max), 0.2) \n",
    "        #mv.set_model_min_max_camera_radii()\n",
    "       # for an_ctr, anim_pnt in zip(range(0, len(anim_pints)), anim_pints):\n",
    "       #     # Set anim frame\n",
    "       #     mv.set_model_animation_pos(anim_pnt)\n",
    "       #     \n",
    "       #     # Take screenshots of this animation from various angles\n",
    "       #     for direxn in range(0, 8):\n",
    "       #         file_nm = '{}_{}_f{}_a{}.png'.format(champ, anim, an_ctr, direxn)\n",
    "       #         full_path = os.path.join(save_path, file_nm)\n",
    "       #         mv.take_model_screenshot(full_path)\n",
    "       #         \n",
    "       #         # Rotate the model horizontally\n",
    "       #         mv.key_down_with_delay(key=Keys.ARROW_LEFT,press_delay=0.25)\n",
    "        for direxn in range(0, 8):\n",
    "            mv.key_down_with_delay(key=Keys.ARROW_LEFT,press_delay=0.001) # Not necessary but it solves a bug with cut-screensots\n",
    "            for an_ctr, anim_pnt in zip(range(0, len(anim_pints)), anim_pints):\n",
    "                mv.set_model_animation_pos(anim_pnt)\n",
    "                file_nm = '{}_{}_f{}_a{}.png'.format(champ, anim, an_ctr, direxn)\n",
    "                full_path = os.path.join(save_path, file_nm)\n",
    "                mv.take_model_screenshot(full_path)\n",
    "            \n",
    "            # Rotate the model horizontally after screenshots\n",
    "            mv.key_down_with_delay(key=Keys.ARROW_LEFT,press_delay=0.25)\n",
    "        "
   ]
  },
  {
   "cell_type": "markdown",
   "metadata": {
    "id": "feaICLp_GYNU"
   },
   "source": [
    "## Extract Minion Models"
   ]
  },
  {
   "cell_type": "code",
   "execution_count": 34,
   "metadata": {
    "id": "4pq2oP_UGYNV"
   },
   "outputs": [
    {
     "data": {
      "text/plain": [
       "['Summoners Rift Chaos Minion Melee',\n",
       " 'Summoners Rift Chaos Minion Ranged',\n",
       " 'Summoners Rift Chaos Minion Siege',\n",
       " 'Summoners Rift Chaos Minion Super',\n",
       " 'Summoners Rift Order Minion Melee',\n",
       " 'Summoners Rift Order Minion Ranged',\n",
       " 'Summoners Rift Order Minion Siege',\n",
       " 'Summoners Rift Order Minion Super']"
      ]
     },
     "execution_count": 34,
     "metadata": {},
     "output_type": "execute_result"
    }
   ],
   "source": [
    "mv = TeemoModelView(init=True)\n",
    "mv.element_category_sel.send_keys('Creatures')\n",
    "creeps = [name for name in mv.get_champ_names() if 'Minion' in name] \n",
    "key_wrds = ['ttack', 'eath', 'dle','un' ]\n",
    "save_dir = 'v2_monsters'\n",
    "creeps"
   ]
  },
  {
   "cell_type": "code",
   "execution_count": null,
   "metadata": {
    "id": "GhDO2breGYNW"
   },
   "outputs": [],
   "source": []
  },
  {
   "cell_type": "code",
   "execution_count": null,
   "metadata": {
    "id": "1WfkPbUwGYNX"
   },
   "outputs": [],
   "source": [
    "for creep in creeps:\n",
    "    if(not mv.initd):\n",
    "        mv.init_driver()\n",
    "    mv.load_creep(creep)\n",
    "    mv.set_model_min_max_camera_radii(minimum=1000, maximum=1100)\n",
    "    mv.set_model_backgroud('#04F404') # Green screen\n",
    "    \n",
    "    # Change the models orientation to isometrc-like view\n",
    "    mv.key_down_with_delay(key=Keys.ARROW_UP,press_delay=0.3)\n",
    "    \n",
    "    # Get all available animations, filter to get those we want\n",
    "    anim_names = [an_name.strip() for k in key_wrds for an_name in mv.get_champ_animations() if k in an_name]\n",
    "   \n",
    "    for anim in anim_names:\n",
    "        # MAke save path\n",
    "        #TODO: Add skin name to path\n",
    "        save_path = '{}/{}/anim_{}'.format(save_dir,creep, anim)\n",
    "        if(not os.path.exists(save_path)):\n",
    "            os.makedirs(save_path)\n",
    "            \n",
    "        mv.set_champ_animation_by_name(anim)\n",
    "        an_max = mv.get_curr_anime_max()\n",
    "        if(an_max > 10):\n",
    "            an_max = 10.0\n",
    "        # Create animation frames with 0.1s intervals (10 fps)\n",
    "        anim_pints = np.arange(0.0, float(an_max), 0.1) \n",
    "        #mv.set_model_min_max_camera_radii()\n",
    "        for an_ctr, anim_pnt in zip(range(0, len(anim_pints)), anim_pints):\n",
    "            # Set anim frame\n",
    "            mv.set_model_animation_pos(anim_pnt)\n",
    "            \n",
    "            # Take screenshots of this animation from various angles\n",
    "            for direxn in range(0, 8):\n",
    "                file_nm = '{}_{}_f{}_a{}.png'.format(creep, anim, an_ctr, direxn)\n",
    "                full_path = os.path.join(save_path, file_nm)\n",
    "                mv.take_model_screenshot(full_path)\n",
    "                \n",
    "                # Rotate the model horizontally\n",
    "                mv.key_down_with_delay(key=Keys.ARROW_LEFT,press_delay=0.25)"
   ]
  },
  {
   "cell_type": "code",
   "execution_count": 48,
   "metadata": {},
   "outputs": [
    {
     "data": {
      "text/plain": [
       "9"
      ]
     },
     "execution_count": 48,
     "metadata": {},
     "output_type": "execute_result"
    }
   ],
   "source": [
    "np.uint8(255+10)"
   ]
  },
  {
   "cell_type": "markdown",
   "metadata": {
    "id": "Kk8e7ejuGYNY"
   },
   "source": [
    "## Extract Monster models"
   ]
  },
  {
   "cell_type": "code",
   "execution_count": 54,
   "metadata": {
    "id": "7fInC94oGYNZ",
    "outputId": "ed626b54-cffb-46f9-9239-5c93a90dfeb3"
   },
   "outputs": [
    {
     "data": {
      "text/plain": [
       "['Summoners Rift Baron',\n",
       " 'Summoners Rift Dragon Fire',\n",
       " 'Summoners Rift Dragon Water',\n",
       " 'Summoners Rift Gromp',\n",
       " 'Summoners Rift Herald Mercenary',\n",
       " 'Summoners Rift Krug',\n",
       " 'Summoners Rift Krug Mini',\n",
       " 'Summoners Rift Krug Mini Mini',\n",
       " 'Summoners Rift Murk Wolf',\n",
       " 'Summoners Rift Murk Wolf Mini',\n",
       " 'Summoners Rift Razor Beak',\n",
       " 'Summoners Rift Razor Beak Mini',\n",
       " 'Summoners Summoners Rift Herald']"
      ]
     },
     "execution_count": 54,
     "metadata": {},
     "output_type": "execute_result"
    }
   ],
   "source": [
    "mv = TeemoModelView(init=True)\n",
    "mv.element_category_sel.send_keys('Creatures')\n",
    "name_filter = ['Fire', 'Water', 'Baron', 'Herald', 'Wolf', 'Gromp', 'Krug','Razor Beak']\n",
    "monsters = [name for name in mv.get_champ_names() for filt in name_filter if filt in name] \n",
    "key_wrds = ['ttack', 'dle','un' ]\n",
    "save_dir = 'v2_1_monsters'\n",
    "monsters.remove('Summoners Rift Gromp Prop')\n",
    "monsters.remove('Summoners Rift Spirit Wolf')\n",
    "monsters"
   ]
  },
  {
   "cell_type": "code",
   "execution_count": 55,
   "metadata": {
    "id": "upM7yf1BGYNa"
   },
   "outputs": [],
   "source": [
    "for monst in monsters:\n",
    "    if(not mv.initd):\n",
    "        mv.init_driver()\n",
    "    mv.load_creep(monst)\n",
    "    mv.set_model_min_max_camera_radii(minimum=1500, maximum=1600) # Higher values ==> zoom - out\n",
    "    mv.set_model_backgroud('#04F404') # Green screen\n",
    "    # Change the models orientation to isometrc-like view\n",
    "    mv.key_down_with_delay(key=Keys.ARROW_UP,press_delay=0.15)\n",
    "    \n",
    "    # Get all available animations, filter to get those we want\n",
    "    animations = mv.get_champ_animations()\n",
    "    \n",
    "    # Filter by animation name to aoid repeated similar animations\n",
    "    anim_names = []\n",
    "    for k in key_wrds:\n",
    "        anims = [an_name for an_name in animations if k in an_name]\n",
    "        if len(anims) > 0:\n",
    "            anim = random.choice(anims)\n",
    "            anim_names.append(anim)\n",
    "    \n",
    "    for anim in anim_names:\n",
    "        # MAke save path\n",
    "        #TODO: Add skin name to path\n",
    "        save_path = '{}/{}/anim_{}'.format(save_dir,monst, anim)\n",
    "        if(not os.path.exists(save_path)):\n",
    "            os.makedirs(save_path)\n",
    "            \n",
    "        mv.set_champ_animation_by_name(anim)\n",
    "        an_max = mv.get_curr_anime_max()\n",
    "        if(an_max > 10):\n",
    "            an_max = 7.0\n",
    "        # Create animation frames with 0.1s intervals (5 fps)\n",
    "        anim_pints = np.arange(0.0, float(an_max), 0.2) \n",
    "        #mv.set_model_min_max_camera_radii()\n",
    "       # for an_ctr, anim_pnt in zip(range(0, len(anim_pints)), anim_pints):\n",
    "       #     # Set anim frame\n",
    "       #     mv.set_model_animation_pos(anim_pnt)\n",
    "       #     \n",
    "       #     # Take screenshots of this animation from various angles\n",
    "       #     for direxn in range(0, 8):\n",
    "       #         file_nm = '{}_{}_f{}_a{}.png'.format(champ, anim, an_ctr, direxn)\n",
    "       #         full_path = os.path.join(save_path, file_nm)\n",
    "       #         mv.take_model_screenshot(full_path)\n",
    "       #         \n",
    "       #         # Rotate the model horizontally\n",
    "       #         mv.key_down_with_delay(key=Keys.ARROW_LEFT,press_delay=0.25)\n",
    "        for direxn in range(0, 8):\n",
    "            for an_ctr, anim_pnt in zip(range(0, len(anim_pints)), anim_pints):\n",
    "                mv.set_model_animation_pos(anim_pnt)\n",
    "                file_nm = '{}_{}_f{}_a{}.png'.format(monst, anim, an_ctr, direxn)\n",
    "                full_path = os.path.join(save_path, file_nm)\n",
    "                mv.take_model_screenshot(full_path)\n",
    "            \n",
    "            # Rotate the model horizontally after screenshots\n",
    "            mv.key_down_with_delay(key=Keys.ARROW_LEFT,press_delay=0.25)\n",
    "        #break\n",
    "    #break"
   ]
  },
  {
   "cell_type": "code",
   "execution_count": null,
   "metadata": {},
   "outputs": [],
   "source": []
  }
 ],
 "metadata": {
  "colab": {
   "name": "TeemoGG_AutoModelCapture.ipynb",
   "provenance": []
  },
  "kernelspec": {
   "display_name": "Python 3.8.6 64-bit",
   "language": "python",
   "name": "python38664bit5086e08cf0ac40048632b8a4bca36774"
  },
  "language_info": {
   "codemirror_mode": {
    "name": "ipython",
    "version": 3
   },
   "file_extension": ".py",
   "mimetype": "text/x-python",
   "name": "python",
   "nbconvert_exporter": "python",
   "pygments_lexer": "ipython3",
   "version": "3.8.6"
  }
 },
 "nbformat": 4,
 "nbformat_minor": 4
}
